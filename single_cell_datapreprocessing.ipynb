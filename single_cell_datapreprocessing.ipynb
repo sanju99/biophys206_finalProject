{
 "cells": [
  {
   "cell_type": "code",
   "execution_count": 1,
   "id": "0fb5ac74",
   "metadata": {},
   "outputs": [],
   "source": [
    "import subprocess\n",
    "import numpy as np\n",
    "import pandas as pd\n",
    "import scanpy as sc\n",
    "import random\n",
    "import string\n",
    "import subprocess\n",
    "import anndata as an\n",
    "import matplotlib as mpl\n",
    "import matplotlib.pyplot as plt\n",
    "import seaborn as sns\n",
    "import scipy \n",
    "import warnings\n",
    "from collections import Counter\n",
    "from google.cloud import storage\n",
    "import re\n",
    "import pyarrow.feather as feather\n",
    "from scipy import sparse\n",
    "from anndata import AnnData"
   ]
  },
  {
   "cell_type": "markdown",
   "id": "b717f143",
   "metadata": {},
   "source": [
    "### Process CPM file"
   ]
  },
  {
   "cell_type": "code",
   "execution_count": null,
   "id": "ec999c40",
   "metadata": {},
   "outputs": [],
   "source": [
    "###direct download from website\n",
    "\n",
    "###Meta data \n",
    "readRDS = robjects.r['readRDS']\n",
    "meta = readRDS('CCLE_metadata.RDS') \n",
    "meta = pandas2ri.rpy2py_dataframe(meta)\n",
    "\n",
    "####CPM data\n",
    "df = readRDS('CCLE_scRNAseq_CPM.RDS')\n",
    "\n",
    "####Gene locus\n",
    "gene_locus = readRDS('gene_locus.RDS')\n",
    "gene_locus_df = pandas2ri.rpy2py_dataframe(gene_locus)\n",
    "\n",
    "##Copy number\n",
    "copy_number = readRDS('CCLE_copynumber_bygene.RDS')\n",
    "copy_number_df = pandas2ri.rpy2py_dataframe(copy_number)\n",
    "copy_number_df = copy_number_df.T.reset_index()"
   ]
  },
  {
   "cell_type": "code",
   "execution_count": null,
   "id": "169d551c",
   "metadata": {},
   "outputs": [],
   "source": [
    "merge_copy = meta.reset_index().merge(copy_number_df, left_on = \"index\", right_on = \"index\" )"
   ]
  },
  {
   "cell_type": "code",
   "execution_count": null,
   "id": "0fdc5e8e",
   "metadata": {},
   "outputs": [],
   "source": [
    "###Merge gene names \n",
    "\n",
    "gene_name = pd.read_csv(\"/data/gene_name.txt\", sep=\"\\t\", header = None)\n",
    "gene_name_short = pd.read_csv(\"/data/gene_name_short.txt\", sep=\"\\t\", header = None)\n",
    "gene_name.index = gene_name[0]\n",
    "gene_name_short.index = gene_name_short[0]\n",
    "gene_name.columns = ['gene']\n",
    "gene_name_short.columns = ['gene']\n",
    "gene_name.index.names = ['index']\n",
    "gene_name_short.index.names = ['index']"
   ]
  },
  {
   "cell_type": "code",
   "execution_count": null,
   "id": "f726eaff",
   "metadata": {},
   "outputs": [],
   "source": [
    "intersection = list(set(gene_name_short['gene']).intersection(set(gene_name['gene'])).intersection(set(copy_number_df.columns[1:])) )"
   ]
  },
  {
   "cell_type": "code",
   "execution_count": null,
   "id": "c67fa505",
   "metadata": {},
   "outputs": [],
   "source": [
    "###get common genes bewteen the 8 CCLE pools and custom pool\n",
    "common_gene,_, ind_long = np.intersect1d(intersection, gene_name['gene'], return_indices = True)\n",
    "_,_, ind_short = np.intersect1d(intersection, gene_name_short['gene'], return_indices = True)\n",
    "\n",
    "common_gene_df = pd.DataFrame(common_gene, index = common_gene, columns = ['gene'])\n",
    "common_gene_df.index.names = ['index']"
   ]
  },
  {
   "cell_type": "code",
   "execution_count": null,
   "id": "e2c26e35",
   "metadata": {},
   "outputs": [],
   "source": [
    "name_list = []\n",
    "for name in meta.index[:-8]:\n",
    "    obs = pd.read_csv(f\"{name}_name.txt\", sep=\"\\t\", header = None)\n",
    "    name_list.append(obs[0])\n",
    "unnest_name = list(chain.from_iterable(name_list))\n",
    "name_df = pd.DataFrame(unnest_name, index = unnest_name, columns = ['Barcode'])\n",
    "name_df.index.names = ['index']"
   ]
  },
  {
   "cell_type": "code",
   "execution_count": null,
   "id": "b074b020",
   "metadata": {},
   "outputs": [],
   "source": [
    "short_name_list = []\n",
    "for name in meta.index[-8:]:\n",
    "    obs = pd.read_csv(f\"{name}_name.txt\", sep=\"\\t\", header = None)\n",
    "    short_name_list.append(obs[0])\n",
    "unnest_name = list(chain.from_iterable(short_name_list))\n",
    "short_name_df = pd.DataFrame(unnest_name, index = unnest_name, columns = ['Barcode'])\n",
    "short_name_df.index.names = ['index']"
   ]
  },
  {
   "cell_type": "code",
   "execution_count": null,
   "id": "d8e5dd33",
   "metadata": {},
   "outputs": [],
   "source": [
    "array_list = []\n",
    "small_list = []\n",
    "common_list = []\n",
    "\n",
    "for d in df:\n",
    "    if np.asarray(d).shape[0] != 28767:\n",
    "        \n",
    "        clean = np.asarray(d)\n",
    "        clean = clean[ind_short,:]\n",
    "        common_list.append(clean)\n",
    "        #small_list.append(np.asarray(d))\n",
    "        \n",
    "    else:\n",
    "        \n",
    "        clean = np.asarray(d)\n",
    "        clean = clean[ind_long,:]\n",
    "        common_list.append(clean)\n",
    "        #array_list.append(np.asarray(d))"
   ]
  },
  {
   "cell_type": "code",
   "execution_count": null,
   "id": "9e701819",
   "metadata": {},
   "outputs": [],
   "source": [
    "common_stack = np.hstack(common_list)"
   ]
  },
  {
   "cell_type": "code",
   "execution_count": null,
   "id": "dedae0c9",
   "metadata": {},
   "outputs": [],
   "source": [
    "merge_cellline = name_df.append(short_name_df)\n",
    "sparse_X = sparse.csr_matrix(common_stack.T) "
   ]
  },
  {
   "cell_type": "code",
   "execution_count": null,
   "id": "eb1b000e",
   "metadata": {},
   "outputs": [],
   "source": [
    "merge_adata = AnnData(sparse_X)\n",
    "merge_adata.var = common_gene_df\n",
    "merge_adata.obs = merge_cellline"
   ]
  },
  {
   "cell_type": "code",
   "execution_count": null,
   "id": "bc4c93ba",
   "metadata": {},
   "outputs": [],
   "source": [
    "###Major file for downstream analysis\n",
    "\n",
    "merge_adata.write_h5ad(\"ccle_merge_cpm.h5ad\")\n",
    "merge_adata.obs.to_csv(\"/data/ccle_obs.csv\")\n",
    "\n",
    "# merge_adata = sc.read_h5ad('ccle_merge_cpm.h5ad')\n",
    "# obs = pd.read_csv(\"ccle_obs.csv\")"
   ]
  },
  {
   "cell_type": "markdown",
   "id": "f9bf4f71",
   "metadata": {},
   "source": [
    "### Process UMI count file\n",
    "Match cell lines to CPM data processed above"
   ]
  },
  {
   "cell_type": "code",
   "execution_count": 1,
   "id": "3f986cb8",
   "metadata": {},
   "outputs": [],
   "source": [
    "umi_count = pd.read_csv(\"UMIcount_data.txt\", sep= \"\\t\")\n",
    "umi_t = umi_count.T\n",
    "umi_clean = umi_t.iloc[1:,2:]"
   ]
  },
  {
   "cell_type": "code",
   "execution_count": 37,
   "id": "228fded1",
   "metadata": {},
   "outputs": [],
   "source": [
    "obs = pd.read_csv(\"/data/ccle_obs.csv\")\n",
    "obs.index = obs['index']\n",
    "obs = obs.drop(columns = 'index')"
   ]
  },
  {
   "cell_type": "code",
   "execution_count": 7,
   "id": "3c8674d5",
   "metadata": {},
   "outputs": [],
   "source": [
    "all_cell = sc.read_h5ad(\"ccle_merge_cpm.h5ad\")"
   ]
  },
  {
   "cell_type": "code",
   "execution_count": 66,
   "id": "600dacbc",
   "metadata": {},
   "outputs": [],
   "source": [
    "new_name = [str.replace(n,'.','-') for n in all_cell.obs.Barcode]"
   ]
  },
  {
   "cell_type": "code",
   "execution_count": 91,
   "id": "973761f5",
   "metadata": {},
   "outputs": [],
   "source": [
    "new_name=[]\n",
    "for n in all_cell.obs.Barcode:\n",
    "    if n[0]=='X':\n",
    "        n=n[1:]\n",
    "    new_name.append(str.replace(n,'.','-'))"
   ]
  },
  {
   "cell_type": "code",
   "execution_count": 88,
   "id": "d5719961",
   "metadata": {},
   "outputs": [],
   "source": [
    "umi_name = []\n",
    "\n",
    "for a,b in zip(umi_count.iloc[0,1:], umi_count.columns[1:]): \n",
    "    if len(re.findall( \"UPPER_AERODIGESTIVE_TRACT\",a))!=0:\n",
    "        b = str.replace(b,'c','')\n",
    "    if a[0]=='X':\n",
    "        a = a[1:]\n",
    "    umi_name.append(a+\"-\"+b)"
   ]
  },
  {
   "cell_type": "code",
   "execution_count": 105,
   "id": "3cce0456",
   "metadata": {},
   "outputs": [],
   "source": [
    "match_location = [np.where(np.asarray(umi_name) == n)[0][0] for n in new_name]\n",
    "match_umi = umi_clean.iloc[match_location,:]\n",
    "match_umi.columns = umi_count.iloc[:,0][2:]\n",
    "array = np.asarray(match_umi).astype(float)\n",
    "sparse_X = sparse.csr_matrix(array)"
   ]
  },
  {
   "cell_type": "code",
   "execution_count": 129,
   "id": "60955177",
   "metadata": {},
   "outputs": [],
   "source": [
    "umi_adata = AnnData(sparse_X)\n",
    "umi_adata.obs = obs\n",
    "umi_adata.var = pd.DataFrame(umi_count.iloc[:,0][2:])"
   ]
  },
  {
   "cell_type": "code",
   "execution_count": 130,
   "id": "3581eee3",
   "metadata": {},
   "outputs": [
    {
     "data": {
      "text/plain": [
       "AnnData object with n_obs × n_vars = 53513 × 30314\n",
       "    obs: 'Barcode', 'n_genes_by_counts', 'total_counts', 'total_counts_mt', 'pct_counts_mt', 'CCLE_ID', 'index.1', 'cancer_type', 'pool_id', 'n_cells', 'cancer_type_trunc'\n",
       "    var: 'Unnamed: 0'"
      ]
     },
     "execution_count": 130,
     "metadata": {},
     "output_type": "execute_result"
    }
   ],
   "source": [
    "umi_adata"
   ]
  },
  {
   "cell_type": "code",
   "execution_count": 132,
   "id": "7cab78b3",
   "metadata": {},
   "outputs": [
    {
     "name": "stderr",
     "output_type": "stream",
     "text": [
      "Copying file://ccle_umi.h5ad [Content-Type=application/octet-stream]...\n",
      "==> NOTE: You are uploading one or more large file(s), which would run          \n",
      "significantly faster if you enable parallel composite uploads. This\n",
      "feature can be enabled by editing the\n",
      "\"parallel_composite_upload_threshold\" value in your .boto\n",
      "configuration file. However, note that if you do this large files will\n",
      "be uploaded as `composite objects\n",
      "<https://cloud.google.com/storage/docs/composite-objects>`_,which\n",
      "means that any user who downloads such objects will need to have a\n",
      "compiled crcmod installed (see \"gsutil help crcmod\"). This is because\n",
      "without a compiled crcmod, computing checksums on composite objects is\n",
      "so slow that gsutil disables downloads of composite objects.\n",
      "\n",
      "- [1 files][  1.5 GiB/  1.5 GiB]   83.7 MiB/s                                   \n",
      "Operation completed over 1 objects/1.5 GiB.                                      \n"
     ]
    },
    {
     "data": {
      "text/plain": [
       "CompletedProcess(args='gsutil cp ccle_umi.h5ad gs://maus-cellranger/', returncode=0)"
      ]
     },
     "execution_count": 132,
     "metadata": {},
     "output_type": "execute_result"
    }
   ],
   "source": [
    "###final umi file for analysis \n",
    "umi_adata.write_h5ad(\"ccle_umi.h5ad\")"
   ]
  },
  {
   "cell_type": "markdown",
   "id": "db8e6660",
   "metadata": {},
   "source": [
    "### Further processing (not used for analysis)"
   ]
  },
  {
   "cell_type": "code",
   "execution_count": 133,
   "id": "a6ce7524",
   "metadata": {},
   "outputs": [],
   "source": [
    "umi_adata.layers['umi'] = umi_adata.X"
   ]
  },
  {
   "cell_type": "code",
   "execution_count": 134,
   "id": "de49a78a",
   "metadata": {},
   "outputs": [],
   "source": [
    "sc.pp.normalize_total(umi_adata, target_sum=1e4)\n",
    "sc.pp.log1p(umi_adata)\n",
    "sc.pp.highly_variable_genes(umi_adata, min_mean=0.01, max_mean=3, min_disp=0.2)"
   ]
  },
  {
   "cell_type": "code",
   "execution_count": 145,
   "id": "7b911079",
   "metadata": {},
   "outputs": [],
   "source": [
    "umi_adata.var.index = umi_adata.var['Unnamed: 0']\n",
    "umi_adata.var.index.names=[\"index\"]"
   ]
  },
  {
   "cell_type": "code",
   "execution_count": 146,
   "id": "bfc6a33d",
   "metadata": {},
   "outputs": [
    {
     "data": {
      "text/html": [
       "<div>\n",
       "<style scoped>\n",
       "    .dataframe tbody tr th:only-of-type {\n",
       "        vertical-align: middle;\n",
       "    }\n",
       "\n",
       "    .dataframe tbody tr th {\n",
       "        vertical-align: top;\n",
       "    }\n",
       "\n",
       "    .dataframe thead th {\n",
       "        text-align: right;\n",
       "    }\n",
       "</style>\n",
       "<table border=\"1\" class=\"dataframe\">\n",
       "  <thead>\n",
       "    <tr style=\"text-align: right;\">\n",
       "      <th></th>\n",
       "      <th>Unnamed: 0</th>\n",
       "      <th>highly_variable</th>\n",
       "      <th>means</th>\n",
       "      <th>dispersions</th>\n",
       "      <th>dispersions_norm</th>\n",
       "    </tr>\n",
       "    <tr>\n",
       "      <th>index</th>\n",
       "      <th></th>\n",
       "      <th></th>\n",
       "      <th></th>\n",
       "      <th></th>\n",
       "      <th></th>\n",
       "    </tr>\n",
       "  </thead>\n",
       "  <tbody>\n",
       "    <tr>\n",
       "      <th>A1BG</th>\n",
       "      <td>A1BG</td>\n",
       "      <td>True</td>\n",
       "      <td>0.226660</td>\n",
       "      <td>0.179397</td>\n",
       "      <td>0.896574</td>\n",
       "    </tr>\n",
       "    <tr>\n",
       "      <th>A1BG-AS1</th>\n",
       "      <td>A1BG-AS1</td>\n",
       "      <td>False</td>\n",
       "      <td>0.032659</td>\n",
       "      <td>-0.244404</td>\n",
       "      <td>-0.034471</td>\n",
       "    </tr>\n",
       "    <tr>\n",
       "      <th>A1CF</th>\n",
       "      <td>A1CF</td>\n",
       "      <td>False</td>\n",
       "      <td>0.007306</td>\n",
       "      <td>-0.058599</td>\n",
       "      <td>0.373721</td>\n",
       "    </tr>\n",
       "    <tr>\n",
       "      <th>A2M</th>\n",
       "      <td>A2M</td>\n",
       "      <td>True</td>\n",
       "      <td>0.035917</td>\n",
       "      <td>0.849223</td>\n",
       "      <td>2.368109</td>\n",
       "    </tr>\n",
       "    <tr>\n",
       "      <th>A2M-AS1</th>\n",
       "      <td>A2M-AS1</td>\n",
       "      <td>False</td>\n",
       "      <td>0.002309</td>\n",
       "      <td>-0.353224</td>\n",
       "      <td>-0.273538</td>\n",
       "    </tr>\n",
       "    <tr>\n",
       "      <th>...</th>\n",
       "      <td>...</td>\n",
       "      <td>...</td>\n",
       "      <td>...</td>\n",
       "      <td>...</td>\n",
       "      <td>...</td>\n",
       "    </tr>\n",
       "    <tr>\n",
       "      <th>SPATA13</th>\n",
       "      <td>SPATA13</td>\n",
       "      <td>False</td>\n",
       "      <td>0.068897</td>\n",
       "      <td>-0.154249</td>\n",
       "      <td>0.163589</td>\n",
       "    </tr>\n",
       "    <tr>\n",
       "      <th>TBC1D26</th>\n",
       "      <td>TBC1D26</td>\n",
       "      <td>False</td>\n",
       "      <td>0.000039</td>\n",
       "      <td>-0.621727</td>\n",
       "      <td>-0.863410</td>\n",
       "    </tr>\n",
       "    <tr>\n",
       "      <th>TIMM10B</th>\n",
       "      <td>TIMM10B</td>\n",
       "      <td>False</td>\n",
       "      <td>0.262999</td>\n",
       "      <td>-0.227587</td>\n",
       "      <td>-0.577479</td>\n",
       "    </tr>\n",
       "    <tr>\n",
       "      <th>TMBIM4</th>\n",
       "      <td>TMBIM4</td>\n",
       "      <td>True</td>\n",
       "      <td>0.042530</td>\n",
       "      <td>0.036139</td>\n",
       "      <td>0.581852</td>\n",
       "    </tr>\n",
       "    <tr>\n",
       "      <th>TMEM256-PLSCR3</th>\n",
       "      <td>TMEM256-PLSCR3</td>\n",
       "      <td>False</td>\n",
       "      <td>0.007095</td>\n",
       "      <td>-0.347573</td>\n",
       "      <td>-0.261123</td>\n",
       "    </tr>\n",
       "  </tbody>\n",
       "</table>\n",
       "<p>30314 rows × 5 columns</p>\n",
       "</div>"
      ],
      "text/plain": [
       "                    Unnamed: 0  highly_variable     means  dispersions  \\\n",
       "index                                                                    \n",
       "A1BG                      A1BG             True  0.226660     0.179397   \n",
       "A1BG-AS1              A1BG-AS1            False  0.032659    -0.244404   \n",
       "A1CF                      A1CF            False  0.007306    -0.058599   \n",
       "A2M                        A2M             True  0.035917     0.849223   \n",
       "A2M-AS1                A2M-AS1            False  0.002309    -0.353224   \n",
       "...                        ...              ...       ...          ...   \n",
       "SPATA13                SPATA13            False  0.068897    -0.154249   \n",
       "TBC1D26                TBC1D26            False  0.000039    -0.621727   \n",
       "TIMM10B                TIMM10B            False  0.262999    -0.227587   \n",
       "TMBIM4                  TMBIM4             True  0.042530     0.036139   \n",
       "TMEM256-PLSCR3  TMEM256-PLSCR3            False  0.007095    -0.347573   \n",
       "\n",
       "                dispersions_norm  \n",
       "index                             \n",
       "A1BG                    0.896574  \n",
       "A1BG-AS1               -0.034471  \n",
       "A1CF                    0.373721  \n",
       "A2M                     2.368109  \n",
       "A2M-AS1                -0.273538  \n",
       "...                          ...  \n",
       "SPATA13                 0.163589  \n",
       "TBC1D26                -0.863410  \n",
       "TIMM10B                -0.577479  \n",
       "TMBIM4                  0.581852  \n",
       "TMEM256-PLSCR3         -0.261123  \n",
       "\n",
       "[30314 rows x 5 columns]"
      ]
     },
     "execution_count": 146,
     "metadata": {},
     "output_type": "execute_result"
    }
   ],
   "source": [
    "umi_adata.var"
   ]
  },
  {
   "cell_type": "code",
   "execution_count": 147,
   "id": "07ab8c36",
   "metadata": {},
   "outputs": [],
   "source": [
    "umi_adata.var.loc[['XIST','RPS4Y1','RPS4Y2'],'highly_variable'] = False"
   ]
  },
  {
   "cell_type": "code",
   "execution_count": 148,
   "id": "26848ac9",
   "metadata": {},
   "outputs": [
    {
     "data": {
      "text/html": [
       "<div>\n",
       "<style scoped>\n",
       "    .dataframe tbody tr th:only-of-type {\n",
       "        vertical-align: middle;\n",
       "    }\n",
       "\n",
       "    .dataframe tbody tr th {\n",
       "        vertical-align: top;\n",
       "    }\n",
       "\n",
       "    .dataframe thead th {\n",
       "        text-align: right;\n",
       "    }\n",
       "</style>\n",
       "<table border=\"1\" class=\"dataframe\">\n",
       "  <thead>\n",
       "    <tr style=\"text-align: right;\">\n",
       "      <th></th>\n",
       "      <th>Unnamed: 0</th>\n",
       "      <th>highly_variable</th>\n",
       "      <th>means</th>\n",
       "      <th>dispersions</th>\n",
       "      <th>dispersions_norm</th>\n",
       "    </tr>\n",
       "    <tr>\n",
       "      <th>index</th>\n",
       "      <th></th>\n",
       "      <th></th>\n",
       "      <th></th>\n",
       "      <th></th>\n",
       "      <th></th>\n",
       "    </tr>\n",
       "  </thead>\n",
       "  <tbody>\n",
       "    <tr>\n",
       "      <th>RPS4Y1</th>\n",
       "      <td>RPS4Y1</td>\n",
       "      <td>False</td>\n",
       "      <td>0.869183</td>\n",
       "      <td>2.230466</td>\n",
       "      <td>3.572005</td>\n",
       "    </tr>\n",
       "    <tr>\n",
       "      <th>RPS4Y2</th>\n",
       "      <td>RPS4Y2</td>\n",
       "      <td>False</td>\n",
       "      <td>0.001376</td>\n",
       "      <td>-0.693808</td>\n",
       "      <td>-1.021764</td>\n",
       "    </tr>\n",
       "    <tr>\n",
       "      <th>XIST</th>\n",
       "      <td>XIST</td>\n",
       "      <td>False</td>\n",
       "      <td>0.231898</td>\n",
       "      <td>1.067043</td>\n",
       "      <td>2.846636</td>\n",
       "    </tr>\n",
       "  </tbody>\n",
       "</table>\n",
       "</div>"
      ],
      "text/plain": [
       "       Unnamed: 0  highly_variable     means  dispersions  dispersions_norm\n",
       "index                                                                      \n",
       "RPS4Y1     RPS4Y1            False  0.869183     2.230466          3.572005\n",
       "RPS4Y2     RPS4Y2            False  0.001376    -0.693808         -1.021764\n",
       "XIST         XIST            False  0.231898     1.067043          2.846636"
      ]
     },
     "execution_count": 148,
     "metadata": {},
     "output_type": "execute_result"
    }
   ],
   "source": [
    "umi_adata.var[umi_adata.var['Unnamed: 0'].isin(['XIST','RPS4Y1','RPS4Y2'])]"
   ]
  },
  {
   "cell_type": "code",
   "execution_count": 149,
   "id": "a3973799",
   "metadata": {},
   "outputs": [
    {
     "data": {
      "text/plain": [
       "3852"
      ]
     },
     "execution_count": 149,
     "metadata": {},
     "output_type": "execute_result"
    }
   ],
   "source": [
    "np.sum(umi_adata.var.highly_variable)"
   ]
  },
  {
   "cell_type": "code",
   "execution_count": 150,
   "id": "2437c4aa",
   "metadata": {},
   "outputs": [],
   "source": [
    "umi_adata.raw = umi_adata\n",
    "umi_adata = umi_adata[:,umi_adata.var['highly_variable']]"
   ]
  },
  {
   "cell_type": "code",
   "execution_count": 154,
   "id": "43ebf01a",
   "metadata": {
    "collapsed": true,
    "jupyter": {
     "outputs_hidden": true
    }
   },
   "outputs": [
    {
     "data": {
      "text/plain": [
       "Counter({'NCIH2126_LUNG': 264,\n",
       "         'SW579_THYROID': 217,\n",
       "         'C32_SKIN': 554,\n",
       "         'NCIH446_LUNG': 196,\n",
       "         'HEC251_ENDOMETRIUM': 107,\n",
       "         'MFE319_ENDOMETRIUM': 191,\n",
       "         'SKNAS_AUTONOMIC_GANGLIA': 226,\n",
       "         'NCIH2452_PLEURA': 538,\n",
       "         'COLO741_SKIN': 329,\n",
       "         'WM88_SKIN': 242,\n",
       "         'JHH7_LIVER': 198,\n",
       "         'KNS42_CENTRAL_NERVOUS_SYSTEM': 172,\n",
       "         'MCF7_BREAST': 143,\n",
       "         'HT1197_URINARY_TRACT': 74,\n",
       "         'SNU899_UPPER_AERODIGESTIVE_TRACT': 83,\n",
       "         'HCC38_BREAST': 200,\n",
       "         'HEC108_ENDOMETRIUM': 172,\n",
       "         'HT1376_URINARY_TRACT': 120,\n",
       "         'SNU308_BILIARY_TRACT': 94,\n",
       "         'TYKNU_OVARY': 117,\n",
       "         'SW1271_LUNG': 115,\n",
       "         'TM31_CENTRAL_NERVOUS_SYSTEM': 116,\n",
       "         'NCIH747_LARGE_INTESTINE': 80,\n",
       "         'KPNSI9S_AUTONOMIC_GANGLIA': 129,\n",
       "         'SQ1_LUNG': 238,\n",
       "         'CAOV3_OVARY': 221,\n",
       "         'IALM_LUNG': 322,\n",
       "         'BT474_BREAST': 125,\n",
       "         'DKMG_CENTRAL_NERVOUS_SYSTEM': 271,\n",
       "         'BT549_BREAST': 266,\n",
       "         'BICR6_UPPER_AERODIGESTIVE_TRACT': 286,\n",
       "         'SH10TC_STOMACH': 351,\n",
       "         'UMUC1_URINARY_TRACT': 197,\n",
       "         'LS1034_LARGE_INTESTINE': 146,\n",
       "         'CCFSTTG1_CENTRAL_NERVOUS_SYSTEM': 246,\n",
       "         'NCIH226_LUNG': 235,\n",
       "         'LNCAPCLONEFGC_PROSTATE': 129,\n",
       "         'RCC10RGB_KIDNEY': 233,\n",
       "         'NCIH2347_LUNG': 145,\n",
       "         'TEN_ENDOMETRIUM': 316,\n",
       "         'RERFLCAD1_LUNG': 243,\n",
       "         'COLO680N_OESOPHAGUS': 523,\n",
       "         'SKMEL2_SKIN': 276,\n",
       "         'BICR31_UPPER_AERODIGESTIVE_TRACT': 248,\n",
       "         'SKMEL3_SKIN': 194,\n",
       "         'RCM1_LARGE_INTESTINE': 128,\n",
       "         'COV434_OVARY': 88,\n",
       "         'SNU1079_BILIARY_TRACT': 73,\n",
       "         'YD38_UPPER_AERODIGESTIVE_TRACT': 624,\n",
       "         'NCIH1299_LUNG': 534,\n",
       "         'IGR37_SKIN': 347,\n",
       "         'BFTC909_KIDNEY': 379,\n",
       "         'NCIH460_LUNG': 837,\n",
       "         'IGR1_SKIN': 725,\n",
       "         'PANC1_PANCREAS': 159,\n",
       "         'VMCUB1_URINARY_TRACT': 478,\n",
       "         'JHOC5_OVARY': 145,\n",
       "         'X42MGBA_CENTRAL_NERVOUS_SYSTEM': 518,\n",
       "         'DAOY_CENTRAL_NERVOUS_SYSTEM': 281,\n",
       "         'SNU1077_ENDOMETRIUM': 172,\n",
       "         'HT1080_SOFT_TISSUE': 516,\n",
       "         'LI7_LIVER': 196,\n",
       "         'A375_SKIN': 593,\n",
       "         'SBC5_LUNG': 102,\n",
       "         'FTC133_THYROID': 140,\n",
       "         'OVK18_OVARY': 178,\n",
       "         'ACCMESO1_PLEURA': 162,\n",
       "         'HMC18_BREAST': 293,\n",
       "         'TOV112D_OVARY': 78,\n",
       "         'SJSA1_BONE': 110,\n",
       "         'JHH6_LIVER': 206,\n",
       "         'A2058_SKIN': 294,\n",
       "         'CCK81_LARGE_INTESTINE': 127,\n",
       "         'NCIH2110_LUNG': 1990,\n",
       "         'NCIH650_LUNG': 271,\n",
       "         'EFE184_ENDOMETRIUM': 86,\n",
       "         'HUPT3_PANCREAS': 136,\n",
       "         'MDAMB361_BREAST': 135,\n",
       "         'BCPAP_THYROID': 152,\n",
       "         'PECAPJ49_UPPER_AERODIGESTIVE_TRACT': 202,\n",
       "         'EKVX_LUNG': 146,\n",
       "         'X2313287_STOMACH': 103,\n",
       "         'BICR56_UPPER_AERODIGESTIVE_TRACT': 81,\n",
       "         'NCIH2170_LUNG': 142,\n",
       "         'DETROIT562_UPPER_AERODIGESTIVE_TRACT': 163,\n",
       "         'SW1088_CENTRAL_NERVOUS_SYSTEM': 128,\n",
       "         'BHY_UPPER_AERODIGESTIVE_TRACT': 145,\n",
       "         'CAS1_CENTRAL_NERVOUS_SYSTEM': 133,\n",
       "         'HCC1428_BREAST': 127,\n",
       "         'HDQP1_BREAST': 64,\n",
       "         'OSRC2_KIDNEY': 126,\n",
       "         'RERFLCKJ_LUNG': 87,\n",
       "         'HUPT4_PANCREAS': 56,\n",
       "         'TCCSUP_URINARY_TRACT': 316,\n",
       "         'TOV21G_OVARY': 305,\n",
       "         'VMRCRCZ_KIDNEY': 300,\n",
       "         'PK59_PANCREAS': 174,\n",
       "         'HUH6_LIVER': 338,\n",
       "         'MSTO211H_PLEURA': 297,\n",
       "         'HS852T_SKIN': 162,\n",
       "         'SKMEL30_SKIN': 353,\n",
       "         'T47D_BREAST': 221,\n",
       "         'CALU6_LUNG': 258,\n",
       "         'NCIH522_LUNG': 208,\n",
       "         'DANG_PANCREAS': 143,\n",
       "         'LMSU_STOMACH': 255,\n",
       "         'SNUC4_LARGE_INTESTINE': 467,\n",
       "         'RVH421_SKIN': 239,\n",
       "         'OVSAHO_OVARY': 227,\n",
       "         'MFE280_ENDOMETRIUM': 217,\n",
       "         'HS939T_SKIN': 236,\n",
       "         'GOS3_CENTRAL_NERVOUS_SYSTEM': 191,\n",
       "         'SNU738_CENTRAL_NERVOUS_SYSTEM': 379,\n",
       "         'PC3_PROSTATE': 169,\n",
       "         'PATU8988S_PANCREAS': 244,\n",
       "         'JHOS2_OVARY': 213,\n",
       "         'OVTOKO_OVARY': 209,\n",
       "         'TE1_OESOPHAGUS': 206,\n",
       "         'NCIH2087_LUNG': 219,\n",
       "         'HEC59_ENDOMETRIUM': 385,\n",
       "         'EFM192A_BREAST': 333,\n",
       "         'HS729_SOFT_TISSUE': 215,\n",
       "         'SNU423_LIVER': 212,\n",
       "         'KPL1_BREAST': 276,\n",
       "         'NCIH727_LUNG': 270,\n",
       "         'NCIH358_LUNG': 336,\n",
       "         'COLO792_SKIN': 271,\n",
       "         'NCIH2077_LUNG': 445,\n",
       "         'KYSE520_OESOPHAGUS': 323,\n",
       "         'KMRC3_KIDNEY': 245,\n",
       "         'MKN7_STOMACH': 258,\n",
       "         'NCIH1944_LUNG': 414,\n",
       "         'HCC1419_BREAST': 221,\n",
       "         'NCIH1568_LUNG': 287,\n",
       "         'NCIH1048_LUNG': 400,\n",
       "         'TE6_OESOPHAGUS': 551,\n",
       "         'ZR751_BREAST': 309,\n",
       "         'PANC0203_PANCREAS': 506,\n",
       "         'SW1990_PANCREAS': 307,\n",
       "         'RD_SOFT_TISSUE': 261,\n",
       "         'CL34_LARGE_INTESTINE': 378,\n",
       "         'NCIH1792_LUNG': 111,\n",
       "         'PK45H_PANCREAS': 271,\n",
       "         'LS180_LARGE_INTESTINE': 361,\n",
       "         'RERFLCAI_LUNG': 763,\n",
       "         'CAMA1_BREAST': 291,\n",
       "         'SNU449_LIVER': 282,\n",
       "         'A204_SOFT_TISSUE': 250,\n",
       "         'HUCCT1_BILIARY_TRACT': 241,\n",
       "         'MKN45_STOMACH': 118,\n",
       "         'SNU1196_BILIARY_TRACT': 286,\n",
       "         'HEP3B217_LIVER': 118,\n",
       "         'HOS_BONE': 829,\n",
       "         'SKMES1_LUNG': 144,\n",
       "         'EBC1_LUNG': 186,\n",
       "         'NCIH292_LUNG': 213,\n",
       "         'OUMS23_LARGE_INTESTINE': 107,\n",
       "         'HEC151_ENDOMETRIUM': 250,\n",
       "         'MDAMB436_BREAST': 281,\n",
       "         'ABC1_LUNG': 311,\n",
       "         'NCIH1373_LUNG': 164,\n",
       "         'TE9_OESOPHAGUS': 248,\n",
       "         'HCC56_LARGE_INTESTINE': 99,\n",
       "         'HT55_LARGE_INTESTINE': 211,\n",
       "         'RT4_URINARY_TRACT': 106,\n",
       "         'SKES1_BONE': 91,\n",
       "         'NCIH1435_LUNG': 267,\n",
       "         'X8305C_THYROID': 459,\n",
       "         'NCIH2228_LUNG': 367,\n",
       "         'TE10_OESOPHAGUS': 219,\n",
       "         'ASPC1_PANCREAS': 290,\n",
       "         'HCC366_LUNG': 202,\n",
       "         'BICR16_UPPER_AERODIGESTIVE_TRACT': 212,\n",
       "         'HEC6_ENDOMETRIUM': 161,\n",
       "         'KALS1_CENTRAL_NERVOUS_SYSTEM': 288,\n",
       "         'NCIH2444_LUNG': 237,\n",
       "         'SNU46_UPPER_AERODIGESTIVE_TRACT': 236,\n",
       "         'OAW28_OVARY': 161,\n",
       "         'SNU1214_UPPER_AERODIGESTIVE_TRACT': 188,\n",
       "         'NCIH2073_LUNG': 176,\n",
       "         'SKMEL5_SKIN': 297,\n",
       "         'OVCAR4_OVARY': 283,\n",
       "         'UACC257_SKIN': 239,\n",
       "         'ONCODG1_OVARY': 270,\n",
       "         'HUH28_BILIARY_TRACT': 139,\n",
       "         'IM95_STOMACH': 185,\n",
       "         'TE14_OESOPHAGUS': 474,\n",
       "         'U118MG_CENTRAL_NERVOUS_SYSTEM': 244,\n",
       "         'CAKI2_KIDNEY': 278,\n",
       "         'SU8686_PANCREAS': 82,\n",
       "         'SCC47_UPPER_AERODIGESTIVE_TRACT': 592,\n",
       "         'JHU029_UPPER_AERODIGESTIVE_TRACT': 797,\n",
       "         'SCC25_UPPER_AERODIGESTIVE_TRACT': 898,\n",
       "         'SCC9_UPPER_AERODIGESTIVE_TRACT': 475,\n",
       "         'JHU011_UPPER_AERODIGESTIVE_TRACT': 717,\n",
       "         'X93VU_UPPER_AERODIGESTIVE_TRACT': 572,\n",
       "         'SCC90_UPPER_AERODIGESTIVE_TRACT': 258,\n",
       "         'JHU006_UPPER_AERODIGESTIVE_TRACT': 325})"
      ]
     },
     "execution_count": 154,
     "metadata": {},
     "output_type": "execute_result"
    }
   ],
   "source": [
    "Counter(umi_adata.obs['CCLE_ID'])"
   ]
  },
  {
   "cell_type": "code",
   "execution_count": 170,
   "id": "b3cf38fe",
   "metadata": {},
   "outputs": [
    {
     "name": "stderr",
     "output_type": "stream",
     "text": [
      "Copying file://ccle_umi_process.h5ad [Content-Type=application/octet-stream]...\n",
      "==> NOTE: You are uploading one or more large file(s), which would run          \n",
      "significantly faster if you enable parallel composite uploads. This\n",
      "feature can be enabled by editing the\n",
      "\"parallel_composite_upload_threshold\" value in your .boto\n",
      "configuration file. However, note that if you do this large files will\n",
      "be uploaded as `composite objects\n",
      "<https://cloud.google.com/storage/docs/composite-objects>`_,which\n",
      "means that any user who downloads such objects will need to have a\n",
      "compiled crcmod installed (see \"gsutil help crcmod\"). This is because\n",
      "without a compiled crcmod, computing checksums on composite objects is\n",
      "so slow that gsutil disables downloads of composite objects.\n",
      "\n",
      "\\ [1 files][  2.2 GiB/  2.2 GiB]   90.2 MiB/s                                   \n",
      "Operation completed over 1 objects/2.2 GiB.                                      \n"
     ]
    },
    {
     "data": {
      "text/plain": [
       "CompletedProcess(args='gsutil cp ccle_umi_process.h5ad gs://maus-cellranger/', returncode=0)"
      ]
     },
     "execution_count": 170,
     "metadata": {},
     "output_type": "execute_result"
    }
   ],
   "source": [
    "umi_adata.write_h5ad(\"ccle_umi_process.h5ad\")"
   ]
  }
 ],
 "metadata": {
  "environment": {
   "name": "pytorch-gpu.1-9.m75",
   "type": "gcloud",
   "uri": "gcr.io/deeplearning-platform-release/pytorch-gpu.1-9:m75"
  },
  "kernelspec": {
   "display_name": "Python 3",
   "language": "python",
   "name": "python3"
  },
  "language_info": {
   "codemirror_mode": {
    "name": "ipython",
    "version": 3
   },
   "file_extension": ".py",
   "mimetype": "text/x-python",
   "name": "python",
   "nbconvert_exporter": "python",
   "pygments_lexer": "ipython3",
   "version": "3.7.10"
  }
 },
 "nbformat": 4,
 "nbformat_minor": 5
}
